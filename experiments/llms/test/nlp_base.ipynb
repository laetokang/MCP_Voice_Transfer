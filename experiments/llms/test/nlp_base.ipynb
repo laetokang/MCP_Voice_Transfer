{
 "cells": [
  {
   "cell_type": "code",
   "execution_count": 1,
   "id": "f471cd7e-e674-4f4d-b060-60714bc3a1b9",
   "metadata": {},
   "outputs": [
    {
     "name": "stdout",
     "output_type": "stream",
     "text": [
      "PyTorch 버전: 2.1.0+cu118\n",
      "GPU 사용 가능 여부: True\n",
      "GPU 이름: NVIDIA GeForce RTX 3090\n"
     ]
    }
   ],
   "source": [
    "import torch\n",
    "\n",
    "print(\"PyTorch 버전:\", torch.__version__)\n",
    "print(\"GPU 사용 가능 여부:\", torch.cuda.is_available())\n",
    "\n",
    "if torch.cuda.is_available():\n",
    "    print(\"GPU 이름:\", torch.cuda.get_device_name(0))\n"
   ]
  },
  {
   "cell_type": "code",
   "execution_count": null,
   "id": "8c737bc8-5b6b-4a07-83be-f6e8f9d28bc2",
   "metadata": {},
   "outputs": [],
   "source": [
    "#!pip install torch transformers accelerate\n",
    "import re\n",
    "import time\n",
    "import json\n",
    "from transformers import AutoTokenizer, AutoModelForCausalLM\n"
   ]
  },
  {
   "cell_type": "markdown",
   "id": "19109637-d6d3-462f-8544-40889bc924a3",
   "metadata": {},
   "source": [
    "# 모델 선정"
   ]
  },
  {
   "cell_type": "code",
   "execution_count": 6,
   "id": "f7ee4ac4-0796-41ca-bf9b-c25696f3b9e4",
   "metadata": {},
   "outputs": [
    {
     "data": {
      "application/vnd.jupyter.widget-view+json": {
       "model_id": "d07bd833787c4d57aba84efd0a8b551e",
       "version_major": 2,
       "version_minor": 0
      },
      "text/plain": [
       "tokenizer_config.json:   0%|          | 0.00/3.44k [00:00<?, ?B/s]"
      ]
     },
     "metadata": {},
     "output_type": "display_data"
    },
    {
     "data": {
      "application/vnd.jupyter.widget-view+json": {
       "model_id": "ed02aaaaf3c54611900aca4137085965",
       "version_major": 2,
       "version_minor": 0
      },
      "text/plain": [
       "tokenizer.model:   0%|          | 0.00/500k [00:00<?, ?B/s]"
      ]
     },
     "metadata": {},
     "output_type": "display_data"
    },
    {
     "data": {
      "application/vnd.jupyter.widget-view+json": {
       "model_id": "ddd6aa9b4e764e3d8e557c028a83a68d",
       "version_major": 2,
       "version_minor": 0
      },
      "text/plain": [
       "tokenizer.json:   0%|          | 0.00/1.94M [00:00<?, ?B/s]"
      ]
     },
     "metadata": {},
     "output_type": "display_data"
    },
    {
     "data": {
      "application/vnd.jupyter.widget-view+json": {
       "model_id": "8ecb743517a84a189f2c3718b8877234",
       "version_major": 2,
       "version_minor": 0
      },
      "text/plain": [
       "added_tokens.json:   0%|          | 0.00/306 [00:00<?, ?B/s]"
      ]
     },
     "metadata": {},
     "output_type": "display_data"
    },
    {
     "data": {
      "application/vnd.jupyter.widget-view+json": {
       "model_id": "090a96f3cf4b4a1ea241cd39c56548d0",
       "version_major": 2,
       "version_minor": 0
      },
      "text/plain": [
       "special_tokens_map.json:   0%|          | 0.00/599 [00:00<?, ?B/s]"
      ]
     },
     "metadata": {},
     "output_type": "display_data"
    },
    {
     "data": {
      "application/vnd.jupyter.widget-view+json": {
       "model_id": "1a0baf6deb044feaae2b850aef186043",
       "version_major": 2,
       "version_minor": 0
      },
      "text/plain": [
       "config.json:   0%|          | 0.00/967 [00:00<?, ?B/s]"
      ]
     },
     "metadata": {},
     "output_type": "display_data"
    },
    {
     "data": {
      "application/vnd.jupyter.widget-view+json": {
       "model_id": "9e3d269a988442dc8682983c7abd98f8",
       "version_major": 2,
       "version_minor": 0
      },
      "text/plain": [
       "model.safetensors.index.json:   0%|          | 0.00/16.5k [00:00<?, ?B/s]"
      ]
     },
     "metadata": {},
     "output_type": "display_data"
    },
    {
     "data": {
      "application/vnd.jupyter.widget-view+json": {
       "model_id": "30c44cee2f3944ff98dca331f9992e12",
       "version_major": 2,
       "version_minor": 0
      },
      "text/plain": [
       "Fetching 2 files:   0%|          | 0/2 [00:00<?, ?it/s]"
      ]
     },
     "metadata": {},
     "output_type": "display_data"
    },
    {
     "data": {
      "application/vnd.jupyter.widget-view+json": {
       "model_id": "0c77c22ffda5463faef94dd74771c77d",
       "version_major": 2,
       "version_minor": 0
      },
      "text/plain": [
       "model-00001-of-00002.safetensors:   0%|          | 0.00/4.97G [00:00<?, ?B/s]"
      ]
     },
     "metadata": {},
     "output_type": "display_data"
    },
    {
     "data": {
      "application/vnd.jupyter.widget-view+json": {
       "model_id": "426394cb3e7d466f9239d94f039dcfd8",
       "version_major": 2,
       "version_minor": 0
      },
      "text/plain": [
       "model-00002-of-00002.safetensors:   0%|          | 0.00/2.67G [00:00<?, ?B/s]"
      ]
     },
     "metadata": {},
     "output_type": "display_data"
    },
    {
     "data": {
      "application/vnd.jupyter.widget-view+json": {
       "model_id": "d7d9e5a94d6c4bfdafa0a55e9bcd6242",
       "version_major": 2,
       "version_minor": 0
      },
      "text/plain": [
       "Loading checkpoint shards:   0%|          | 0/2 [00:00<?, ?it/s]"
      ]
     },
     "metadata": {},
     "output_type": "display_data"
    },
    {
     "data": {
      "application/vnd.jupyter.widget-view+json": {
       "model_id": "a63ed0c4f1bf433baa5468d9f33884a9",
       "version_major": 2,
       "version_minor": 0
      },
      "text/plain": [
       "generation_config.json:   0%|          | 0.00/181 [00:00<?, ?B/s]"
      ]
     },
     "metadata": {},
     "output_type": "display_data"
    },
    {
     "data": {
      "text/plain": [
       "Phi3ForCausalLM(\n",
       "  (model): Phi3Model(\n",
       "    (embed_tokens): Embedding(32064, 3072, padding_idx=32000)\n",
       "    (layers): ModuleList(\n",
       "      (0-31): 32 x Phi3DecoderLayer(\n",
       "        (self_attn): Phi3Attention(\n",
       "          (o_proj): Linear(in_features=3072, out_features=3072, bias=False)\n",
       "          (qkv_proj): Linear(in_features=3072, out_features=9216, bias=False)\n",
       "        )\n",
       "        (mlp): Phi3MLP(\n",
       "          (gate_up_proj): Linear(in_features=3072, out_features=16384, bias=False)\n",
       "          (down_proj): Linear(in_features=8192, out_features=3072, bias=False)\n",
       "          (activation_fn): SiLU()\n",
       "        )\n",
       "        (input_layernorm): Phi3RMSNorm((3072,), eps=1e-05)\n",
       "        (post_attention_layernorm): Phi3RMSNorm((3072,), eps=1e-05)\n",
       "        (resid_attn_dropout): Dropout(p=0.0, inplace=False)\n",
       "        (resid_mlp_dropout): Dropout(p=0.0, inplace=False)\n",
       "      )\n",
       "    )\n",
       "    (norm): Phi3RMSNorm((3072,), eps=1e-05)\n",
       "    (rotary_emb): Phi3RotaryEmbedding()\n",
       "  )\n",
       "  (lm_head): Linear(in_features=3072, out_features=32064, bias=False)\n",
       ")"
      ]
     },
     "execution_count": 6,
     "metadata": {},
     "output_type": "execute_result"
    }
   ],
   "source": [
    "model_name = \"microsoft/phi-3-mini-4k-instruct\"\n",
    "tokenizer = AutoTokenizer.from_pretrained(model_name)\n",
    "model = AutoModelForCausalLM.from_pretrained(model_name,\n",
    "                                            torch_dtype=torch.float16)\n",
    "model.to(\"cuda\")"
   ]
  },
  {
   "cell_type": "markdown",
   "id": "3026968c-c242-4c96-b391-a6cdf80a2789",
   "metadata": {},
   "source": [
    "# 프롬프트"
   ]
  },
  {
   "cell_type": "code",
   "execution_count": 10,
   "id": "1ae9b633-892a-4fba-a936-04912cbd4360",
   "metadata": {},
   "outputs": [],
   "source": [
    "# 프롬프트 러닝 비교\n",
    "\n",
    "##제로샷\n",
    "\n",
    "def prompt_a(input_text):\n",
    "    return f\"\"\"\n",
    "다음 문장에서 사용자의 의도(intent), 필요한 정보(slot), 그리고 자연스러운 응답 메시지를 추출하세요.  \n",
    "출력은 아래 형식을 따르세요:\n",
    "\n",
    "{\n",
    "  \"intent\": \"...\",\n",
    "  \"slots\": { \"recipient\": \"...\", \"amount\": ... },\n",
    "  \"response\": \"...\"\n",
    "}\n",
    "\n",
    "문장: \"{input_text}\"\n",
    "\"\"\"\n",
    "\n",
    "\n",
    "def prompt_b(input_text):\n",
    "    return f\"\"\"\n",
    "    다음 문장에서 사용자의 의도(intent), 필요한 정보(slot), 그리고 응답 메시지를 추출하세요.\n",
    "    의도(intent)는 아래 분류 중 하나로만 선택해야 합니다:\n",
    "    다음 문장을 분석하여 intent, amount, recipient, response를 JSON형식으로 출력해 주세요.\n",
    "\n",
    "    - transfer: 금전을 누군가에게 보내려는 요청\n",
    "    - inquiry: 잔액, 수수료 등 정보 문의\n",
    "    - cancel: 진행 중인 작업 취소\n",
    "    - confirm: 이전 발화에 대한 확인\n",
    "    - other: 시스템 외 일상 대화 또는 분류 불가능\n",
    "    - system_response: 시스템이 사용자에게 안내하거나 재질문\n",
    "\n",
    "    출력은 아래 JSON 형식을 따르세요:\n",
    "\n",
    "{\n",
    "  \"intent\": \"...\",\n",
    "  \"slots\": { \"recipient\": \"...\", \"amount\": ... },\n",
    "  \"response\": \"...\"\n",
    "}\n",
    "\n",
    "문장: \"{input_text}\"\n",
    "\"\"\""
   ]
  },
  {
   "cell_type": "markdown",
   "id": "3c6a5972-2d75-4442-802d-b7d45708eb83",
   "metadata": {},
   "source": [
    "# 함수 정의"
   ]
  },
  {
   "cell_type": "code",
   "execution_count": 21,
   "id": "d16329ab-940a-42fc-9149-3da3280739cd",
   "metadata": {},
   "outputs": [],
   "source": [
    "# run_inference.py\n",
    "def run_inference(prompt: str, tokenizer, model):\n",
    "    inputs = tokenizer(prompt, return_tensors=\"pt\").to(model.device)\n",
    "    start = time.time()\n",
    "    outputs = model.generate(**inputs, max_new_tokens=80,do_sample=False)\n",
    "    end = time.time()\n",
    "\n",
    "    # 출력 해석\n",
    "    generated = tokenizer.decode(outputs[0], skip_special_tokens=True)\n",
    "    output_text = generated.replace(prompt, \"\").strip()\n",
    "\n",
    "\n",
    "    try:\n",
    "        json_start = output_text.find(\"{\")\n",
    "        json_end = output_text.rfind(\"}\") + 1\n",
    "        json_block = output_text[json_start:json_end]\n",
    "        parsed = json.loads(json_block)\n",
    "        \n",
    "    except Exception as e:\n",
    "        print(\"JSON 파싱 실패:\", e)\n",
    "        print(\"📦 원문 출력:\", repr(output_text))\n",
    "        parsed = {}\n",
    "\n",
    "    print(\"\\n📦 LLM 원문 출력:\")\n",
    "    print(output_text)\n",
    "    print(f\"\\n⏱️ 처리 시간: {round(end - start, 2)}초\")\n",
    "    return parsed, round(end - start, 2)\n"
   ]
  },
  {
   "cell_type": "code",
   "execution_count": 50,
   "id": "b304e5e0-8a76-418f-b52a-2b7f9e9e0f6b",
   "metadata": {},
   "outputs": [],
   "source": [
    "def evaluate_results(results_path, ground_truth):\n",
    "    import json\n",
    "\n",
    "    with open(results_path, \"r\", encoding=\"utf-8\") as f:\n",
    "        results = json.load(f)\n",
    "\n",
    "    def clean(x): return str(x).strip().lower() if x else \"\"\n",
    "    def to_int(x):\n",
    "        try: return int(str(x).replace(\",\", \"\").strip())\n",
    "        except: return None\n",
    "\n",
    "    total = len(results)\n",
    "\n",
    "    intent_acc = sum(clean(r[\"intent\"]) == clean(gt[\"intent\"]) for r, gt in zip(results, ground_truth)) / total\n",
    "    amount_acc = sum(to_int(r[\"slots\"].get(\"amount\")) == gt[\"slots\"].get(\"amount\") for r, gt in zip(results, ground_truth)) / total\n",
    "    recipient_acc = sum(clean(r[\"slots\"].get(\"recipient\")) == clean(gt[\"slots\"].get(\"recipient\")) for r, gt in zip(results, ground_truth)) / total\n",
    "    avg_time = sum(r.get(\"inference_time\", 0) for r in results) / total\n",
    "    json_success = sum(bool(r.get(\"intent\")) for r in results) / total\n",
    "\n",
    "    return {\n",
    "        \"intent_acc\": round(intent_acc, 4),\n",
    "        \"amount_acc\": round(amount_acc, 4),\n",
    "        \"recipient_acc\": round(recipient_acc, 4),\n",
    "        \"json_success_rate\": round(json_success, 4),\n",
    "        \"avg_response_time\": round(avg_time, 2)\n",
    "    }\n"
   ]
  },
  {
   "cell_type": "code",
   "execution_count": 16,
   "id": "e64c14e4-630e-49c7-b557-c2112b89902c",
   "metadata": {
    "scrolled": true
   },
   "outputs": [
    {
     "name": "stdout",
     "output_type": "stream",
     "text": [
      "\n",
      "📦 LLM 원문 출력:\n",
      "### Solution:\n",
      "\n",
      "{\"intent\": \"transfer\",\"amount\": 100000,\"recipient\": \"엄마\",\"response\": \"엄마님께 100,000원을 송금해드릴까요?\"}\n",
      "\n",
      "\n",
      "##\n",
      "\n",
      "⏱️ 처리 시간: 2.49초\n",
      "\n",
      "🎯 최종 출력 결과:\n",
      "{'intent': 'transfer', 'amount': 100000, 'recipient': '엄마', 'response': '엄마님께 100,000원을 송금해드릴까요?'}\n"
     ]
    }
   ],
   "source": [
    "from transformers import AutoTokenizer, AutoModelForCausalLM\n",
    "# from prompt_templates import prompt_a\n",
    "# from run_inference import run_inference\n",
    "\n",
    "# # 1. 모델 로딩\n",
    "# model_name = \"microsoft/phi-3-mini-4k-instruct\"\n",
    "# tokenizer = AutoTokenizer.from_pretrained(model_name)\n",
    "# model = AutoModelForCausalLM.from_pretrained(model_name)\n",
    "# model.to(\"cuda\")\n",
    "\n",
    "# 2. 입력 문장\n",
    "text = \"아빠한테 오천 원 보내줘\"\n",
    "prompt = prompt_a(text)\n",
    "\n",
    "# 3. 단독 인퍼런스 실행\n",
    "result = run_inference(prompt, tokenizer, model)\n",
    "\n",
    "print(\"\\n🎯 최종 출력 결과:\")\n",
    "print(result)"
   ]
  },
  {
   "cell_type": "markdown",
   "id": "e91326f2-f7dc-47f8-9472-6353670d528b",
   "metadata": {},
   "source": [
    "# Model Test"
   ]
  },
  {
   "cell_type": "code",
   "execution_count": 18,
   "id": "4ddbd999-12dc-49b8-8f53-d74727520cc2",
   "metadata": {},
   "outputs": [],
   "source": [
    "samples = [\n",
    "  { \"text\": \"철수한테 오천 원 보내줘\", \"intent\": \"transfer\", \"slots\": { \"recipient\": \"철수\", \"amount\": 5000 } },\n",
    "  { \"text\": \"엄마한테 3만원만\", \"intent\": \"transfer\", \"slots\": { \"recipient\": \"엄마\", \"amount\": 30000 } },\n",
    "  { \"text\": \"만원만 보내줘\", \"intent\": \"transfer\", \"slots\": { \"recipient\": None, \"amount\": 10000 } },\n",
    "  { \"text\": \"엄마한테 보내줘\", \"intent\": \"transfer\", \"slots\": { \"recipient\": \"엄마\", \"amount\": None } },\n",
    "  { \"text\": \"나 송금하고 싶어\", \"intent\": \"transfer\", \"slots\": { \"recipient\": None, \"amount\": None } },\n",
    "  { \"text\": \"가스비 내야 하는데 어떻게 해야 해?\", \"intent\": \"inquiry\", \"slots\": { \"topic\": \"가스비\" } },\n",
    "  { \"text\": \"내 계좌에 얼마 남았어?\", \"intent\": \"inquiry\", \"slots\": { \"topic\": \"잔액조회\" } },\n",
    "  { \"text\": \"그 사람한테 또 보내줘\", \"intent\": \"transfer\", \"slots\": { \"recipient\": \"이전대화\", \"amount\": \"이전대화\" } },\n",
    "  { \"text\": \"아까랑 똑같이 보내줘\", \"intent\": \"transfer\", \"slots\": { \"recipient\": \"이전대화\", \"amount\": \"이전대화\" } },\n",
    "  { \"text\": \"송금할래\", \"intent\": \"transfer\", \"slots\": { \"recipient\": None, \"amount\": None } },\n",
    "  { \"text\": \"이체 수수료 얼마야?\", \"intent\": \"inquiry\", \"slots\": { \"topic\": \"이체 수수료\" } },\n",
    "  { \"text\": \"오늘 아빠랑 점심 먹었어\", \"intent\": \"other\", \"slots\": {} },\n",
    "  { \"text\": \"아빠한테 이만원 보내줘\", \"intent\": \"transfer\", \"slots\": { \"recipient\": \"아빠\", \"amount\": 20000 } },\n",
    "  { \"text\": \"여보한테 십만 원 이체해줘\", \"intent\": \"transfer\", \"slots\": { \"recipient\": \"여보\", \"amount\": 100000 } },\n",
    "  { \"text\": \"보내지 마\", \"intent\": \"cancel\", \"slots\": {} },\n",
    "  { \"text\": \"그냥 넘어가줘\", \"intent\": \"cancel\", \"slots\": {} },\n",
    "  { \"text\": \"엄마 송금해줘\", \"intent\": \"transfer\", \"slots\": { \"recipient\": \"엄마\", \"amount\": None } },\n",
    "  { \"text\": \"아, 삼만원 보내는 거였지\", \"intent\": \"confirm\", \"slots\": { \"amount\": 30000 } },\n",
    "  { \"text\": \"예금해줘\", \"intent\": \"other\", \"slots\": { \"action\": \"예금\" } },\n",
    "  { \"text\": \"누구한테 보낼까요?\", \"intent\": \"system_response\", \"slots\": {} }\n",
    "]\n"
   ]
  },
  {
   "cell_type": "code",
   "execution_count": 26,
   "id": "25d0ceb3-b3a2-4718-854d-9703c7357428",
   "metadata": {},
   "outputs": [
    {
     "name": "stdout",
     "output_type": "stream",
     "text": [
      "\n",
      "📦 LLM 원문 출력:\n",
      "{\"intent\": \"transfer\",\"amount\": 100000,\"recipient\": \"철수\",\"response\": \"철수님께 천원을 송금해드릴까요?\"}  \n",
      "\n",
      "text: \"저는 친구가\n",
      "\n",
      "⏱️ 처리 시간: 2.61초\n",
      "\n",
      "📦 LLM 원문 출력:\n",
      "{\"intent\": \"transfer\",\"amount\": 30000,\"recipient\": \"엄마\",\"response\": \"엄마님께 3만원을 송금해드릴까요?\"}  \n",
      "\n",
      "text: \"저는 엄마에�\n",
      "\n",
      "⏱️ 처리 시간: 2.54초\n",
      "\n",
      "📦 LLM 원문 출력:\n",
      "{\"intent\": \"transfer\",\"amount\": 10000,\"recipient\": \"엄마\",\"response\": \"엄마님께 10,000원을 송금해드릴까요?\"}  \n",
      "\n",
      "text: \"저는 ��\n",
      "\n",
      "⏱️ 처리 시간: 2.51초\n",
      "JSON 파싱 실패: Expecting value: line 1 column 33 (char 32)\n",
      "📦 원문 출력: '{\"intent\": \"transfer\",\"amount\": None,\"recipient\": \"엄마\",\"response\": \"엄마님께 얼마를 송금하시겠습니까?\"}  \\n\\ntext: \"저는 엄마에��'\n",
      "\n",
      "📦 LLM 원문 출력:\n",
      "{\"intent\": \"transfer\",\"amount\": None,\"recipient\": \"엄마\",\"response\": \"엄마님께 얼마를 송금하시겠습니까?\"}  \n",
      "\n",
      "text: \"저는 엄마에��\n",
      "\n",
      "⏱️ 처리 시간: 2.5초\n",
      "JSON 파싱 실패: Expecting value: line 1 column 32 (char 31)\n",
      "📦 원문 출력: '{\"intent\": \"inquiry\",\"amount\": None,\"recipient\": None,\"response\": \"누구나 송금하려면 얼마를 예금하시겠습니까?\"}  \\n\\ntext: \"저는 송'\n",
      "\n",
      "📦 LLM 원문 출력:\n",
      "{\"intent\": \"inquiry\",\"amount\": None,\"recipient\": None,\"response\": \"누구나 송금하려면 얼마를 예금하시겠습니까?\"}  \n",
      "\n",
      "text: \"저는 송\n",
      "\n",
      "⏱️ 처리 시간: 2.49초\n",
      "JSON 파싱 실패: Expecting value: line 1 column 32 (char 31)\n",
      "📦 원문 출력: '{\"intent\": \"inquiry\",\"amount\": None,\"recipient\": None,\"response\": \"가스비를 올릴 수 있는 방법을 알려드리겠습니다.\"}  \\n\\ntext: \"저는 친구'\n",
      "\n",
      "📦 LLM 원문 출력:\n",
      "{\"intent\": \"inquiry\",\"amount\": None,\"recipient\": None,\"response\": \"가스비를 올릴 수 있는 방법을 알려드리겠습니다.\"}  \n",
      "\n",
      "text: \"저는 친구\n",
      "\n",
      "⏱️ 처리 시간: 2.5초\n",
      "JSON 파싱 실패: Expecting value: line 1 column 32 (char 31)\n",
      "📦 원문 출력: '{\"intent\": \"inquiry\",\"amount\": None,\"recipient\": None,\"response\": \"계좌에 얼마 있는지 알려주세요.\"}  \\n\\ntext: \"저는 이번 주에 예약한 �'\n",
      "\n",
      "📦 LLM 원문 출력:\n",
      "{\"intent\": \"inquiry\",\"amount\": None,\"recipient\": None,\"response\": \"계좌에 얼마 있는지 알려주세요.\"}  \n",
      "\n",
      "text: \"저는 이번 주에 예약한 �\n",
      "\n",
      "⏱️ 처리 시간: 2.48초\n",
      "JSON 파싱 실패: Expecting value: line 1 column 33 (char 32)\n",
      "📦 원문 출력: '{\"intent\": \"transfer\",\"amount\": None,\"recipient\": None,\"response\": \"누구냐고 보내줘요?\"}  \\n\\ntext: \"이번주 송금 예정이 되었어요\"  \\n{\"intent\": \"inqu'\n",
      "\n",
      "📦 LLM 원문 출력:\n",
      "{\"intent\": \"transfer\",\"amount\": None,\"recipient\": None,\"response\": \"누구냐고 보내줘요?\"}  \n",
      "\n",
      "text: \"이번주 송금 예정이 되었어요\"  \n",
      "{\"intent\": \"inqu\n",
      "\n",
      "⏱️ 처리 시간: 2.49초\n",
      "JSON 파싱 실패: Expecting value: line 1 column 33 (char 32)\n",
      "📦 원문 출력: '{\"intent\": \"transfer\",\"amount\": None,\"recipient\": \"아까랑\",\"response\": \"아까랑 똑같이 보내줄까요?\"}  \\n\\ntext: \"저는 친구가 손님이'\n",
      "\n",
      "📦 LLM 원문 출력:\n",
      "{\"intent\": \"transfer\",\"amount\": None,\"recipient\": \"아까랑\",\"response\": \"아까랑 똑같이 보내줄까요?\"}  \n",
      "\n",
      "text: \"저는 친구가 손님이\n",
      "\n",
      "⏱️ 처리 시간: 2.49초\n",
      "JSON 파싱 실패: Expecting value: line 1 column 1 (char 0)\n",
      "📦 원문 출력: '{\"intent\": \"transfer\",\"amount\": None,\"recipient\": None,\"response\": \"누구누구누구누구누구누구누구누구누구누구누구누구누구누구누'\n",
      "\n",
      "📦 LLM 원문 출력:\n",
      "{\"intent\": \"transfer\",\"amount\": None,\"recipient\": None,\"response\": \"누구누구누구누구누구누구누구누구누구누구누구누구누구누구누\n",
      "\n",
      "⏱️ 처리 시간: 2.53초\n",
      "JSON 파싱 실패: Expecting value: line 1 column 32 (char 31)\n",
      "📦 원문 출력: '{\"intent\": \"inquiry\",\"amount\": None,\"recipient\": None,\"response\": \"이체 수수료는 얼마인가요?\"}  \\n\\ntext: \"저는 친구가 올릴 수 있는 돈 ��'\n",
      "\n",
      "📦 LLM 원문 출력:\n",
      "{\"intent\": \"inquiry\",\"amount\": None,\"recipient\": None,\"response\": \"이체 수수료는 얼마인가요?\"}  \n",
      "\n",
      "text: \"저는 친구가 올릴 수 있는 돈 ��\n",
      "\n",
      "⏱️ 처리 시간: 2.52초\n",
      "\n",
      "📦 LLM 원문 출력:\n",
      "{\"intent\": \"other\",\"response\": \"오늘 아빠랑 점심 먹었어요, 좋은 아침 보내세요!\"}  \n",
      "\n",
      "text: \"저희 온라인 결제를\n",
      "\n",
      "⏱️ 처리 시간: 2.44초\n",
      "\n",
      "📦 LLM 원문 출력:\n",
      "{\"intent\": \"transfer\",\"amount\": 10000,\"recipient\": \"엄마\",\"response\": \"엄마님께 이천원을 송금해드릴까요?\"}  \n",
      "\n",
      "text: \"저는 엄마에�\n",
      "\n",
      "⏱️ 처리 시간: 2.51초\n",
      "\n",
      "📦 LLM 원문 출력:\n",
      "{\"intent\": \"transfer\",\"amount\": 100000,\"recipient\": \"여보\",\"response\": \"여보님께 100,000원을 송금해드릴까요?\"}  \n",
      "\n",
      "text: \"저는 친구\n",
      "\n",
      "⏱️ 처리 시간: 2.49초\n",
      "\n",
      "📦 LLM 원문 출력:\n",
      "{\"intent\": \"cancel\",\"response\": \"취소되었습니다. 다시 시도해 주세요.\"}  \n",
      "\n",
      "text: \"송금 양을 알려줘\"\n",
      "\n",
      "{\"intent\": \"inquiry\",\"response\": \"\n",
      "\n",
      "⏱️ 처리 시간: 2.47초\n",
      "\n",
      "📦 LLM 원문 출력:\n",
      "{\"intent\": \"cancel\",\"response\": \"넘어가세요. 송금 취소가 완료되었습니다.\"}  \n",
      "\n",
      "text: \"송금 양이 몇 원인가요?\"\n",
      "\n",
      "⏱️ 처리 시간: 2.48초\n",
      "JSON 파싱 실패: Expecting value: line 1 column 33 (char 32)\n",
      "📦 원문 출력: '{\"intent\": \"transfer\",\"amount\": None,\"recipient\": \"엄마\",\"response\": \"엄마님께 얼마를 송금하시겠습니까?\"}  \\n\\ntext: \"저는 엄마에��'\n",
      "\n",
      "📦 LLM 원문 출력:\n",
      "{\"intent\": \"transfer\",\"amount\": None,\"recipient\": \"엄마\",\"response\": \"엄마님께 얼마를 송금하시겠습니까?\"}  \n",
      "\n",
      "text: \"저는 엄마에��\n",
      "\n",
      "⏱️ 처리 시간: 2.48초\n",
      "\n",
      "📦 LLM 원문 출력:\n",
      "{\"intent\": \"confirm\",\"amount\": 30000,\"recipient\": \"엄마\",\"response\": \"엄마님께 삼만원을 송금했습니다.\"}  \n",
      "\n",
      "text: \"너무 많아요\"\n",
      "\n",
      "⏱️ 처리 시간: 2.49초\n",
      "JSON 파싱 실패: Expecting value: line 1 column 32 (char 31)\n",
      "📦 원문 출력: '{\"intent\": \"inquiry\",\"amount\": None,\"recipient\": None,\"response\": \"뭐가 예금할 거야? 예금하고 싶은 사람이 뭘까요?\"}  \\n\\ntext: \"'\n",
      "\n",
      "📦 LLM 원문 출력:\n",
      "{\"intent\": \"inquiry\",\"amount\": None,\"recipient\": None,\"response\": \"뭐가 예금할 거야? 예금하고 싶은 사람이 뭘까요?\"}  \n",
      "\n",
      "text: \"\n",
      "\n",
      "⏱️ 처리 시간: 2.49초\n",
      "JSON 파싱 실패: Expecting value: line 1 column 32 (char 31)\n",
      "📦 원문 출력: '{\"intent\": \"inquiry\",\"amount\": None,\"recipient\": None,\"response\": \"누가 송금할 수 있나요?\"}  \\n\\ntext: \"저는 친구한테 송금할 수 ��'\n",
      "\n",
      "📦 LLM 원문 출력:\n",
      "{\"intent\": \"inquiry\",\"amount\": None,\"recipient\": None,\"response\": \"누가 송금할 수 있나요?\"}  \n",
      "\n",
      "text: \"저는 친구한테 송금할 수 ��\n",
      "\n",
      "⏱️ 처리 시간: 2.46초\n",
      "✅ 결과 저장 완료: results.json\n"
     ]
    }
   ],
   "source": [
    "# from run_inference import run_inference\n",
    "import json\n",
    "\n",
    "results = []\n",
    "\n",
    "for sample in samples:  # samples는 [{text: ..., intent: ...}, ...] 형식\n",
    "    prompt = prompt_b(sample[\"text\"])  # 너가 만든 프롬프트 함수\n",
    "    output, elapsed = run_inference(prompt, tokenizer, model)\n",
    "\n",
    "    results.append({\n",
    "        \"input_text\": sample[\"text\"],\n",
    "        \"expected_intent\": sample[\"intent\"],\n",
    "        \"predicted_intent\": output.get(\"intent\", \"None\"),\n",
    "        \"slots\": output.get(\"slots\", {}),\n",
    "        \"response\": output.get(\"response\", \"\"),\n",
    "        \"inference_time\": elapsed\n",
    "    })\n",
    "\n",
    "# 결과 저장\n",
    "with open(\"results1.json\", \"w\", encoding=\"utf-8\") as f:\n",
    "    json.dump(results, f, indent=2, ensure_ascii=False)\n",
    "\n",
    "print(\"✅ 결과 저장 완료: results.json\")\n"
   ]
  },
  {
   "cell_type": "code",
   "execution_count": 55,
   "id": "b42be50d-3337-4e2a-9f3f-1f7254435f8b",
   "metadata": {
    "scrolled": true
   },
   "outputs": [
    {
     "ename": "KeyError",
     "evalue": "'intent'",
     "output_type": "error",
     "traceback": [
      "\u001b[0;31m---------------------------------------------------------------------------\u001b[0m",
      "\u001b[0;31mKeyError\u001b[0m                                  Traceback (most recent call last)",
      "Cell \u001b[0;32mIn[55], line 1\u001b[0m\n\u001b[0;32m----> 1\u001b[0m result_a \u001b[38;5;241m=\u001b[39m \u001b[43mevaluate_results\u001b[49m\u001b[43m(\u001b[49m\u001b[38;5;124;43m\"\u001b[39;49m\u001b[38;5;124;43mresults.json\u001b[39;49m\u001b[38;5;124;43m\"\u001b[39;49m\u001b[43m,\u001b[49m\u001b[43m \u001b[49m\u001b[43msamples\u001b[49m\u001b[43m)\u001b[49m\n\u001b[1;32m      2\u001b[0m result_b \u001b[38;5;241m=\u001b[39m evaluate_results(\u001b[38;5;124m\"\u001b[39m\u001b[38;5;124mresults1.json\u001b[39m\u001b[38;5;124m\"\u001b[39m, samples)\n",
      "Cell \u001b[0;32mIn[50], line 14\u001b[0m, in \u001b[0;36mevaluate_results\u001b[0;34m(results_path, ground_truth)\u001b[0m\n\u001b[1;32m     10\u001b[0m     \u001b[38;5;28;01mexcept\u001b[39;00m: \u001b[38;5;28;01mreturn\u001b[39;00m \u001b[38;5;28;01mNone\u001b[39;00m\n\u001b[1;32m     12\u001b[0m total \u001b[38;5;241m=\u001b[39m \u001b[38;5;28mlen\u001b[39m(results)\n\u001b[0;32m---> 14\u001b[0m intent_acc \u001b[38;5;241m=\u001b[39m \u001b[38;5;28;43msum\u001b[39;49m\u001b[43m(\u001b[49m\u001b[43mclean\u001b[49m\u001b[43m(\u001b[49m\u001b[43mr\u001b[49m\u001b[43m[\u001b[49m\u001b[38;5;124;43m\"\u001b[39;49m\u001b[38;5;124;43mintent\u001b[39;49m\u001b[38;5;124;43m\"\u001b[39;49m\u001b[43m]\u001b[49m\u001b[43m)\u001b[49m\u001b[43m \u001b[49m\u001b[38;5;241;43m==\u001b[39;49m\u001b[43m \u001b[49m\u001b[43mclean\u001b[49m\u001b[43m(\u001b[49m\u001b[43mgt\u001b[49m\u001b[43m[\u001b[49m\u001b[38;5;124;43m\"\u001b[39;49m\u001b[38;5;124;43mintent\u001b[39;49m\u001b[38;5;124;43m\"\u001b[39;49m\u001b[43m]\u001b[49m\u001b[43m)\u001b[49m\u001b[43m \u001b[49m\u001b[38;5;28;43;01mfor\u001b[39;49;00m\u001b[43m \u001b[49m\u001b[43mr\u001b[49m\u001b[43m,\u001b[49m\u001b[43m \u001b[49m\u001b[43mgt\u001b[49m\u001b[43m \u001b[49m\u001b[38;5;129;43;01min\u001b[39;49;00m\u001b[43m \u001b[49m\u001b[38;5;28;43mzip\u001b[39;49m\u001b[43m(\u001b[49m\u001b[43mresults\u001b[49m\u001b[43m,\u001b[49m\u001b[43m \u001b[49m\u001b[43mground_truth\u001b[49m\u001b[43m)\u001b[49m\u001b[43m)\u001b[49m \u001b[38;5;241m/\u001b[39m total\n\u001b[1;32m     15\u001b[0m amount_acc \u001b[38;5;241m=\u001b[39m \u001b[38;5;28msum\u001b[39m(to_int(r[\u001b[38;5;124m\"\u001b[39m\u001b[38;5;124mslots\u001b[39m\u001b[38;5;124m\"\u001b[39m]\u001b[38;5;241m.\u001b[39mget(\u001b[38;5;124m\"\u001b[39m\u001b[38;5;124mamount\u001b[39m\u001b[38;5;124m\"\u001b[39m)) \u001b[38;5;241m==\u001b[39m gt[\u001b[38;5;124m\"\u001b[39m\u001b[38;5;124mslots\u001b[39m\u001b[38;5;124m\"\u001b[39m]\u001b[38;5;241m.\u001b[39mget(\u001b[38;5;124m\"\u001b[39m\u001b[38;5;124mamount\u001b[39m\u001b[38;5;124m\"\u001b[39m) \u001b[38;5;28;01mfor\u001b[39;00m r, gt \u001b[38;5;129;01min\u001b[39;00m \u001b[38;5;28mzip\u001b[39m(results, ground_truth)) \u001b[38;5;241m/\u001b[39m total\n\u001b[1;32m     16\u001b[0m recipient_acc \u001b[38;5;241m=\u001b[39m \u001b[38;5;28msum\u001b[39m(clean(r[\u001b[38;5;124m\"\u001b[39m\u001b[38;5;124mslots\u001b[39m\u001b[38;5;124m\"\u001b[39m]\u001b[38;5;241m.\u001b[39mget(\u001b[38;5;124m\"\u001b[39m\u001b[38;5;124mrecipient\u001b[39m\u001b[38;5;124m\"\u001b[39m)) \u001b[38;5;241m==\u001b[39m clean(gt[\u001b[38;5;124m\"\u001b[39m\u001b[38;5;124mslots\u001b[39m\u001b[38;5;124m\"\u001b[39m]\u001b[38;5;241m.\u001b[39mget(\u001b[38;5;124m\"\u001b[39m\u001b[38;5;124mrecipient\u001b[39m\u001b[38;5;124m\"\u001b[39m)) \u001b[38;5;28;01mfor\u001b[39;00m r, gt \u001b[38;5;129;01min\u001b[39;00m \u001b[38;5;28mzip\u001b[39m(results, ground_truth)) \u001b[38;5;241m/\u001b[39m total\n",
      "Cell \u001b[0;32mIn[50], line 14\u001b[0m, in \u001b[0;36m<genexpr>\u001b[0;34m(.0)\u001b[0m\n\u001b[1;32m     10\u001b[0m     \u001b[38;5;28;01mexcept\u001b[39;00m: \u001b[38;5;28;01mreturn\u001b[39;00m \u001b[38;5;28;01mNone\u001b[39;00m\n\u001b[1;32m     12\u001b[0m total \u001b[38;5;241m=\u001b[39m \u001b[38;5;28mlen\u001b[39m(results)\n\u001b[0;32m---> 14\u001b[0m intent_acc \u001b[38;5;241m=\u001b[39m \u001b[38;5;28msum\u001b[39m(clean(\u001b[43mr\u001b[49m\u001b[43m[\u001b[49m\u001b[38;5;124;43m\"\u001b[39;49m\u001b[38;5;124;43mintent\u001b[39;49m\u001b[38;5;124;43m\"\u001b[39;49m\u001b[43m]\u001b[49m) \u001b[38;5;241m==\u001b[39m clean(gt[\u001b[38;5;124m\"\u001b[39m\u001b[38;5;124mintent\u001b[39m\u001b[38;5;124m\"\u001b[39m]) \u001b[38;5;28;01mfor\u001b[39;00m r, gt \u001b[38;5;129;01min\u001b[39;00m \u001b[38;5;28mzip\u001b[39m(results, ground_truth)) \u001b[38;5;241m/\u001b[39m total\n\u001b[1;32m     15\u001b[0m amount_acc \u001b[38;5;241m=\u001b[39m \u001b[38;5;28msum\u001b[39m(to_int(r[\u001b[38;5;124m\"\u001b[39m\u001b[38;5;124mslots\u001b[39m\u001b[38;5;124m\"\u001b[39m]\u001b[38;5;241m.\u001b[39mget(\u001b[38;5;124m\"\u001b[39m\u001b[38;5;124mamount\u001b[39m\u001b[38;5;124m\"\u001b[39m)) \u001b[38;5;241m==\u001b[39m gt[\u001b[38;5;124m\"\u001b[39m\u001b[38;5;124mslots\u001b[39m\u001b[38;5;124m\"\u001b[39m]\u001b[38;5;241m.\u001b[39mget(\u001b[38;5;124m\"\u001b[39m\u001b[38;5;124mamount\u001b[39m\u001b[38;5;124m\"\u001b[39m) \u001b[38;5;28;01mfor\u001b[39;00m r, gt \u001b[38;5;129;01min\u001b[39;00m \u001b[38;5;28mzip\u001b[39m(results, ground_truth)) \u001b[38;5;241m/\u001b[39m total\n\u001b[1;32m     16\u001b[0m recipient_acc \u001b[38;5;241m=\u001b[39m \u001b[38;5;28msum\u001b[39m(clean(r[\u001b[38;5;124m\"\u001b[39m\u001b[38;5;124mslots\u001b[39m\u001b[38;5;124m\"\u001b[39m]\u001b[38;5;241m.\u001b[39mget(\u001b[38;5;124m\"\u001b[39m\u001b[38;5;124mrecipient\u001b[39m\u001b[38;5;124m\"\u001b[39m)) \u001b[38;5;241m==\u001b[39m clean(gt[\u001b[38;5;124m\"\u001b[39m\u001b[38;5;124mslots\u001b[39m\u001b[38;5;124m\"\u001b[39m]\u001b[38;5;241m.\u001b[39mget(\u001b[38;5;124m\"\u001b[39m\u001b[38;5;124mrecipient\u001b[39m\u001b[38;5;124m\"\u001b[39m)) \u001b[38;5;28;01mfor\u001b[39;00m r, gt \u001b[38;5;129;01min\u001b[39;00m \u001b[38;5;28mzip\u001b[39m(results, ground_truth)) \u001b[38;5;241m/\u001b[39m total\n",
      "\u001b[0;31mKeyError\u001b[0m: 'intent'"
     ]
    }
   ],
   "source": [
    "result_a = evaluate_results(\"results.json\", samples)\n",
    "result_b = evaluate_results(\"results1.json\", samples)\n",
    "\n"
   ]
  },
  {
   "cell_type": "code",
   "execution_count": 47,
   "id": "ef157174-abbe-4a1a-91d1-9a5cbaae9750",
   "metadata": {},
   "outputs": [],
   "source": [
    "def evaluate_results(results_path):\n",
    "    import json\n",
    "\n",
    "    with open(results_path, \"r\", encoding=\"utf-8\") as f:\n",
    "        results = json.load(f)\n",
    "\n",
    "    def clean(x): return str(x).strip().lower() if x else \"\"\n",
    "    def to_int(x):\n",
    "        try: return int(str(x).replace(\",\", \"\").strip())\n",
    "        except: return None\n",
    "\n",
    "    total = len(results)\n",
    "\n",
    "    intent_correct = 0\n",
    "    amount_correct = 0\n",
    "    recipient_correct = 0\n",
    "    json_parsed = 0\n",
    "    total_time = 0\n",
    "    slot_total = 0\n",
    "\n",
    "    for r in results:\n",
    "        if not r.get(\"predicted_intent\"):  # JSON 파싱 실패\n",
    "            continue\n",
    "\n",
    "        json_parsed += 1\n",
    "        total_time += r.get(\"inference_time\", 0)\n",
    "\n",
    "        # Intent 정확도\n",
    "        if clean(r.get(\"predicted_intent\")) == clean(r.get(\"expected_intent\")):\n",
    "            intent_correct += 1\n",
    "\n",
    "        # Slot 정확도 평가 (optional: if expected_slots 포함)\n",
    "        if \"expected_slots\" in r:\n",
    "            expected = r[\"expected_slots\"]\n",
    "            predicted = r.get(\"slots\", {})\n",
    "\n",
    "            if \"amount\" in expected:\n",
    "                if to_int(predicted.get(\"amount\")) == to_int(expected.get(\"amount\")):\n",
    "                    amount_correct += 1\n",
    "                slot_total += 1\n",
    "\n",
    "            if \"recipient\" in expected:\n",
    "                if clean(predicted.get(\"recipient\")) == clean(expected.get(\"recipient\")):\n",
    "                    recipient_correct += 1\n",
    "                slot_total += 1\n",
    "\n",
    "    return {\n",
    "        \"intent_acc\": round(intent_correct / total, 4),\n",
    "        \"amount_acc\": round(amount_correct / total, 4) if total else \"N/A\",\n",
    "        \"recipient_acc\": round(recipient_correct / total, 4) if total else \"N/A\",\n",
    "        \"json_success_rate\": round(json_parsed / total, 4),\n",
    "        \"avg_response_time\": round(total_time / json_parsed, 2) if json_parsed else 0\n",
    "    }\n",
    "\n"
   ]
  },
  {
   "cell_type": "code",
   "execution_count": 28,
   "id": "c678dcce-2bac-48e6-9b0c-c87649b7f851",
   "metadata": {},
   "outputs": [
    {
     "name": "stdout",
     "output_type": "stream",
     "text": [
      "\n",
      "[1] 문장: 철수한테 오천 원 보내줘\n",
      "✅ 파싱된 결과:\n",
      "{\n",
      "  \"intent\": \"transfer\",\n",
      "  \"amount\": 100000,\n",
      "  \"recipient\": \"철수\",\n",
      "  \"response\": \"철수님께 천원을 송금해드릴까요?\"\n",
      "}\n",
      "\n",
      "⏱️ 처리 시간: 4.07초\n",
      "\n",
      "[2] 문장: 엄마한테 3만원만\n",
      "❌ JSON 파싱 실패: Expecting value: line 1 column 1 (char 0)\n",
      "📦 원문 출력: 'text: \"저는 송금 예정이에요\"\\n\\n  {\"intent\": \"inquiry\",\"amount\": None,\"recipient\": None,\"response\": \"송금 예정이에요네요, 언제 송금'\n",
      "\n",
      "⏱️ 처리 시간: 3.91초\n",
      "\n",
      "[3] 문장: 만원만 보내줘\n",
      "❌ JSON 파싱 실패: Expecting value: line 1 column 52 (char 51)\n",
      "📦 원문 출력: '{\"intent\": \"transfer\",\"amount\": 10000,\"recipient\": None,\"response\": \"10,000원을 송금하시겠습니까?\"}\\n\\n\\n송금하고 싶어요\\n\\n  {\"intent\": \"'\n",
      "\n",
      "⏱️ 처리 시간: 3.94초\n",
      "\n",
      "[4] 문장: 엄마한테 보내줘\n",
      "✅ 파싱된 결과:\n",
      "{\n",
      "  \"intent\": \"transfer\",\n",
      "  \"amount\": 10000,\n",
      "  \"recipient\": \"엄마\",\n",
      "  \"response\": \"엄마님께 10,000원을 송금해드릴까요?\"\n",
      "}\n",
      "\n",
      "⏱️ 처리 시간: 4.09초\n",
      "\n",
      "[5] 문장: 나 송금하고 싶어\n",
      "❌ JSON 파싱 실패: Expecting value: line 1 column 1 (char 0)\n",
      "📦 원문 출력: ''\n",
      "\n",
      "⏱️ 처리 시간: 4.11초\n",
      "\n",
      "[6] 문장: 가스비 내야 하는데 어떻게 해야 해?\n",
      "❌ JSON 파싱 실패: Expecting value: line 1 column 32 (char 31)\n",
      "📦 원문 출력: '{\"intent\": \"inquiry\",\"amount\": None,\"recipient\": None,\"response\": \"가스비를 준비하려면 저희에게 더 자세한 정보를 알려주세요.\"}��������'\n",
      "\n",
      "⏱️ 처리 시간: 4.15초\n",
      "\n",
      "[7] 문장: 내 계좌에 얼마 남았어?\n",
      "❌ JSON 파싱 실패: Expecting value: line 1 column 32 (char 31)\n",
      "📦 원문 출력: '{\"intent\": \"inquiry\",\"amount\": None,\"recipient\": None,\"response\": \"내 계좌에는 얼마나 남았나요?\"}\\n\\n\\n송금하고 싶어요.\\n\\n  {\"intent\": \"transfer\",\"amount\": None,\"'\n",
      "\n",
      "⏱️ 처리 시간: 4.13초\n",
      "\n",
      "[8] 문장: 그 사람한테 또 보내줘\n",
      "✅ 파싱된 결과:\n",
      "{\n",
      "  \"intent\": \"transfer\",\n",
      "  \"amount\": 10000,\n",
      "  \"recipient\": \"그런 사람\",\n",
      "  \"response\": \"그런 사람님께 10,000원을 송금해드릴까요?\"\n",
      "}\n",
      "\n",
      "⏱️ 처리 시간: 3.97초\n",
      "\n",
      "[9] 문장: 아까랑 똑같이 보내줘\n",
      "✅ 파싱된 결과:\n",
      "{\n",
      "  \"intent\": \"transfer\",\n",
      "  \"amount\": 10000,\n",
      "  \"recipient\": \"아까랑\",\n",
      "  \"response\": \"아까랑 10,000원을 송금해드릴까요?\"\n",
      "}\n",
      "\n",
      "⏱️ 처리 시간: 4.02초\n",
      "\n",
      "[10] 문장: 송금할래\n",
      "❌ JSON 파싱 실패: Expecting value: line 1 column 1 (char 0)\n",
      "📦 원문 출력: '송금 관련 정보를 물을 시 inquiry\\n\\n송금 관련 정보를 물을 시 inquiry\\n\\n송금 관련 정보를 물을'\n",
      "\n",
      "⏱️ 처리 시간: 4.01초\n",
      "\n",
      "[11] 문장: 이체 수수료 얼마야?\n",
      "❌ JSON 파싱 실패: Expecting value: line 1 column 32 (char 31)\n",
      "📦 원문 출력: '{\"intent\": \"inquiry\",\"amount\": None,\"recipient\": None,\"response\": \"이 수수료는 얼마인가요?\"}\\n\\n\\n송금 예정일은 몇 일이야?\\n\\n  {\"intent\": \"inquiry\",\"amount'\n",
      "\n",
      "⏱️ 처리 시간: 4.11초\n",
      "\n",
      "[12] 문장: 오늘 아빠랑 점심 먹었어\n",
      "✅ 파싱된 결과:\n",
      "{\n",
      "  \"intent\": \"other\",\n",
      "  \"response\": \"오늘 아빠랑 점심 먹었어요, 잘 지냈어요?\"\n",
      "}\n",
      "\n",
      "⏱️ 처리 시간: 4.01초\n",
      "\n",
      "[13] 문장: 아빠한테 이만원 보내줘\n",
      "✅ 파싱된 결과:\n",
      "{\n",
      "  \"intent\": \"transfer\",\n",
      "  \"amount\": 10000,\n",
      "  \"recipient\": \"아빠\",\n",
      "  \"response\": \"아빠님께 1만원을 송금해드릴까요?\"\n",
      "}\n",
      "\n",
      "⏱️ 처리 시간: 3.98초\n",
      "\n",
      "[14] 문장: 여보한테 십만 원 이체해줘\n",
      "✅ 파싱된 결과:\n",
      "{\n",
      "  \"intent\": \"transfer\",\n",
      "  \"amount\": 100000,\n",
      "  \"recipient\": \"여보\",\n",
      "  \"response\": \"여보님께 100,000원을 송금해드릴까요?\"\n",
      "}\n",
      "\n",
      "⏱️ 처리 시간: 3.87초\n",
      "\n",
      "[15] 문장: 보내지 마\n",
      "❌ JSON 파싱 실패: Expecting value: line 1 column 1 (char 0)\n",
      "📦 원문 출력: '예시:\\ntext: \"저희 송금 서비스 알려주세요\"\\n\\n  {\"intent\": \"inquiry\",\"amount\": None,\"recipient\": None,\"response\": \"저희 송금 서비스'\n",
      "\n",
      "⏱️ 처리 시간: 3.89초\n",
      "\n",
      "[16] 문장: 그냥 넘어가줘\n",
      "❌ JSON 파싱 실패: Expecting value: line 1 column 1 (char 0)\n",
      "📦 원문 출력: 'text: \"저희 회사에서 송금하려고 합니다\"\\n\\n  {\"intent\": \"transfer\",\"amount\": None,\"recipient\": None,\"response\": \"저희 회사에서 송금하려면 �'\n",
      "\n",
      "⏱️ 처리 시간: 3.92초\n",
      "\n",
      "[17] 문장: 엄마 송금해줘\n",
      "❌ JSON 파싱 실패: Expecting value: line 1 column 32 (char 31)\n",
      "📦 원문 출력: 'text: \"저는 송금하고 싶어요\"\\n\\n  {\"intent\": \"inquiry\",\"amount\": None,\"recipient\": None,\"response\": \"송금하고 싶은 사람이 뭔가요?\"}����'\n",
      "\n",
      "⏱️ 처리 시간: 3.86초\n",
      "\n",
      "[18] 문장: 아, 삼만원 보내는 거였지\n",
      "✅ 파싱된 결과:\n",
      "{\n",
      "  \"intent\": \"transfer\",\n",
      "  \"amount\": 3000000,\n",
      "  \"recipient\": \"엄마\",\n",
      "  \"response\": \"엄마님께 3,000,000원을 송금해드릴까요?\"\n",
      "}\n",
      "\n",
      "⏱️ 처리 시간: 3.85초\n",
      "\n",
      "[19] 문장: 예금해줘\n",
      "❌ JSON 파싱 실패: Expecting value: line 1 column 1 (char 0)\n",
      "📦 원문 출력: '엄마한테 송금해\\n\\n송금해요\\n\\n송금해요\\n\\n송금해요\\n\\n송금해요\\n\\n송금해요\\n\\n송금해요���'\n",
      "\n",
      "⏱️ 처리 시간: 3.86초\n",
      "\n",
      "[20] 문장: 누구한테 보낼까요?\n",
      "✅ 파싱된 결과:\n",
      "{\n",
      "  \"intent\": \"inquiry\",\n",
      "  \"response\": \"누가 보낼까요?\"\n",
      "}\n",
      "\n",
      "⏱️ 처리 시간: 3.87초\n"
     ]
    }
   ],
   "source": [
    "for i,ex in enumerate(sample):\n",
    "    input_text = ex[\"text\"]\n",
    "    print(f\"\\n[{i+1}] 문장: {input_text}\")\n",
    "\n",
    "    result = run_chatbot_inference(input_text) "
   ]
  },
  {
   "cell_type": "code",
   "execution_count": 10,
   "id": "5c746fbf-2e90-4329-81f9-fd409c10f11d",
   "metadata": {},
   "outputs": [
    {
     "name": "stdout",
     "output_type": "stream",
     "text": [
      "❌ intent 오답 (예상: 시스템응답, 예측: None)\n"
     ]
    },
    {
     "ename": "KeyError",
     "evalue": "'recipient'",
     "output_type": "error",
     "traceback": [
      "\u001b[0;31m---------------------------------------------------------------------------\u001b[0m",
      "\u001b[0;31mKeyError\u001b[0m                                  Traceback (most recent call last)",
      "Cell \u001b[0;32mIn[10], line 13\u001b[0m\n\u001b[1;32m     10\u001b[0m     \u001b[38;5;28mprint\u001b[39m(\u001b[38;5;124mf\u001b[39m\u001b[38;5;124m\"\u001b[39m\u001b[38;5;124m❌ intent 오답 (예상: \u001b[39m\u001b[38;5;132;01m{\u001b[39;00mex[\u001b[38;5;124m'\u001b[39m\u001b[38;5;124mintent\u001b[39m\u001b[38;5;124m'\u001b[39m]\u001b[38;5;132;01m}\u001b[39;00m\u001b[38;5;124m, 예측: \u001b[39m\u001b[38;5;132;01m{\u001b[39;00mpred_intent\u001b[38;5;132;01m}\u001b[39;00m\u001b[38;5;124m)\u001b[39m\u001b[38;5;124m\"\u001b[39m)\n\u001b[1;32m     12\u001b[0m \u001b[38;5;66;03m# 대상 비교\u001b[39;00m\n\u001b[0;32m---> 13\u001b[0m \u001b[38;5;28;01mif\u001b[39;00m pred_recipient \u001b[38;5;241m==\u001b[39m \u001b[43mex\u001b[49m\u001b[43m[\u001b[49m\u001b[38;5;124;43m\"\u001b[39;49m\u001b[38;5;124;43mslots\u001b[39;49m\u001b[38;5;124;43m\"\u001b[39;49m\u001b[43m]\u001b[49m\u001b[43m[\u001b[49m\u001b[38;5;124;43m\"\u001b[39;49m\u001b[38;5;124;43mrecipient\u001b[39;49m\u001b[38;5;124;43m\"\u001b[39;49m\u001b[43m]\u001b[49m:\n\u001b[1;32m     14\u001b[0m     correct_recipient \u001b[38;5;241m+\u001b[39m\u001b[38;5;241m=\u001b[39m \u001b[38;5;241m1\u001b[39m\n\u001b[1;32m     15\u001b[0m     \u001b[38;5;28mprint\u001b[39m(\u001b[38;5;124m\"\u001b[39m\u001b[38;5;124m✔ recipient 정답\u001b[39m\u001b[38;5;124m\"\u001b[39m)\n",
      "\u001b[0;31mKeyError\u001b[0m: 'recipient'"
     ]
    }
   ],
   "source": [
    "correct_intent = 0\n",
    "correct_recipient = 0\n",
    "correct_amount = 0\n",
    "    \n",
    "\n",
    "    pred_intent = result.get(\"intent\")\n",
    "    pred_recipient = result.get(\"recipient\")\n",
    "    pred_amount = int(result.get(\"amount\")) if result.get(\"amount\") is not None else None\n",
    "\n",
    "    # 의도 비교\n",
    "    if pred_intent == ex[\"intent\"]:\n",
    "        correct_intent += 1\n",
    "        print(\"✔ intent 정답\")\n",
    "    else:\n",
    "        print(f\"❌ intent 오답 (예상: {ex['intent']}, 예측: {pred_intent})\")\n",
    "\n",
    "    # 대상 비교\n",
    "    if pred_recipient == ex[\"slots\"][\"recipient\"]:\n",
    "        correct_recipient += 1\n",
    "        print(\"✔ recipient 정답\")\n",
    "    else:\n",
    "        print(f\"❌ recipient 오답 (예상: {ex['slots']['recipient']}, 예측: {pred_recipient})\")\n",
    "\n",
    "    # 금액 비교\n",
    "    if pred_amount == ex[\"slots\"][\"amount\"]:\n",
    "        correct_amount += 1\n",
    "        print(\"✔ amount 정답\")\n",
    "    else:\n",
    "        print(f\"❌ amount 오답 (예상: {ex['slots']['amount']}, 예측: {pred_amount})\")\n",
    "\n",
    "# 평가 결과 출력\n",
    "total = len(sample)\n",
    "print(\"\\n📊 평가 결과\")\n",
    "print(f\"Intent 정확도: {correct_intent}/{total} ({correct_intent/total:.0%})\")\n",
    "print(f\"Recipient 정확도: {correct_recipient}/{total} ({correct_recipient/total:.0%})\")\n",
    "print(f\"Amount 정확도: {correct_amount}/{total} ({correct_amount/total:.0%})\")"
   ]
  },
  {
   "cell_type": "code",
   "execution_count": null,
   "id": "04db84a4-03b5-47ac-b430-f44c37d4a32f",
   "metadata": {},
   "outputs": [],
   "source": [
    "import torch\n",
    "torch.cuda.empty_cache()\n"
   ]
  },
  {
   "cell_type": "code",
   "execution_count": 57,
   "id": "e1d2cf00-8bb3-49ce-84b3-50636ac9b433",
   "metadata": {},
   "outputs": [
    {
     "data": {
      "text/plain": [
       "PosixPath('samples_with_response.json')"
      ]
     },
     "execution_count": 57,
     "metadata": {},
     "output_type": "execute_result"
    }
   ],
   "source": [
    "# 재실행 후 다시 samples와 저장 로직 복원\n",
    "samples = [\n",
    "  {\n",
    "    \"text\": \"철수한테 오천 원 보내줘\",\n",
    "    \"intent\": \"transfer\",\n",
    "    \"slots\": { \"recipient\": \"철수\", \"amount\": 5000 },\n",
    "    \"response\": \"철수님께 5,000원을 송금하시겠어요?\"\n",
    "  },\n",
    "  {\n",
    "    \"text\": \"엄마한테 3만원만\",\n",
    "    \"intent\": \"transfer\",\n",
    "    \"slots\": { \"recipient\": \"엄마\", \"amount\": 30000 },\n",
    "    \"response\": \"엄마님께 30,000원을 송금하시겠어요?\"\n",
    "  },\n",
    "  {\n",
    "    \"text\": \"만원만 보내줘\",\n",
    "    \"intent\": \"transfer\",\n",
    "    \"    slots\": { \"recipient\": None, \"amount\": 10000 },\n",
    "    \"response\": \"누구에게 10,000원을 송금할까요?\"\n",
    "  },\n",
    "  {\n",
    "    \"text\": \"엄마한테 보내줘\",\n",
    "    \"intent\": \"transfer\",\n",
    "    \"slots\": { \"recipient\": \"엄마\", \"amount\": None },\n",
    "    \"response\": \"엄마님께 얼마를 송금할까요?\"\n",
    "  },\n",
    "  {\n",
    "    \"text\": \"나 송금하고 싶어\",\n",
    "    \"intent\": \"transfer\",\n",
    "    \"slots\": { \"recipient\": None, \"amount\": None },\n",
    "    \"response\": \"송금하실 대상과 금액을 알려주세요.\"\n",
    "  },\n",
    "  {\n",
    "    \"text\": \"가스비 내야 하는데 어떻게 해야 해?\",\n",
    "    \"intent\": \"inquiry\",\n",
    "    \"slots\": { \"topic\": \"가스비\" },\n",
    "    \"response\": \"가스비 납부 방법을 알려드릴게요.\"\n",
    "  },\n",
    "  {\n",
    "    \"text\": \"내 계좌에 얼마 남았어?\",\n",
    "    \"intent\": \"inquiry\",\n",
    "    \"slots\": { \"topic\": \"잔액조회\" },\n",
    "    \"response\": \"계좌 잔액을 확인 중입니다.\"\n",
    "  },\n",
    "  {\n",
    "    \"text\": \"그 사람한테 또 보내줘\",\n",
    "    \"intent\": \"transfer\",\n",
    "    \"slots\": { \"recipient\": \"이전대화\", \"amount\": \"이전대화\" },\n",
    "    \"response\": \"이전에 송금한 대상과 금액으로 다시 송금할까요?\"\n",
    "  },\n",
    "  {\n",
    "    \"text\": \"아까랑 똑같이 보내줘\",\n",
    "    \"intent\": \"transfer\",\n",
    "    \"slots\": { \"recipient\": \"이전대화\", \"amount\": \"이전대화\" },\n",
    "    \"response\": \"이전과 동일한 내용으로 송금 진행할까요?\"\n",
    "  },\n",
    "  {\n",
    "    \"text\": \"송금할래\",\n",
    "    \"intent\": \"transfer\",\n",
    "    \"slots\": { \"recipient\": None, \"amount\": None },\n",
    "    \"response\": \"송금하실 대상과 금액을 말씀해주세요.\"\n",
    "  },\n",
    "  {\n",
    "    \"text\": \"이체 수수료 얼마야?\",\n",
    "    \"intent\": \"inquiry\",\n",
    "    \"slots\": { \"topic\": \"이체 수수료\" },\n",
    "    \"response\": \"이체 수수료 정보를 알려드릴게요.\"\n",
    "  },\n",
    "  {\n",
    "    \"text\": \"오늘 아빠랑 점심 먹었어\",\n",
    "    \"intent\": \"other\",\n",
    "    \"slots\": {},\n",
    "    \"response\": \"말씀 감사합니다!\"\n",
    "  },\n",
    "  {\n",
    "    \"text\": \"아빠한테 이만원 보내줘\",\n",
    "    \"intent\": \"transfer\",\n",
    "    \"slots\": { \"recipient\": \"아빠\", \"amount\": 20000 },\n",
    "    \"response\": \"아빠님께 20,000원을 송금하시겠어요?\"\n",
    "  },\n",
    "  {\n",
    "    \"text\": \"여보한테 십만 원 이체해줘\",\n",
    "    \"intent\": \"transfer\",\n",
    "    \"slots\": { \"recipient\": \"여보\", \"amount\": 100000 },\n",
    "    \"response\": \"여보님께 100,000원을 송금하시겠어요?\"\n",
    "  },\n",
    "  {\n",
    "    \"text\": \"보내지 마\",\n",
    "    \"intent\": \"cancel\",\n",
    "    \"slots\": {},\n",
    "    \"response\": \"요청하신 송금을 취소했습니다.\"\n",
    "  },\n",
    "  {\n",
    "    \"text\": \"그냥 넘어가줘\",\n",
    "    \"intent\": \"cancel\",\n",
    "    \"slots\": {},\n",
    "    \"response\": \"진행 중이던 요청을 취소했어요.\"\n",
    "  },\n",
    "  {\n",
    "    \"text\": \"엄마 송금해줘\",\n",
    "    \"intent\": \"transfer\",\n",
    "    \"slots\": { \"recipient\": \"엄마\", \"amount\": None },\n",
    "    \"response\": \"엄마님께 얼마를 송금할까요?\"\n",
    "  },\n",
    "  {\n",
    "    \"text\": \"아, 삼만원 보내는 거였지\",\n",
    "    \"intent\": \"confirm\",\n",
    "    \"slots\": { \"amount\": 30000 },\n",
    "    \"response\": \"30,000원 송금 요청으로 확인했습니다.\"\n",
    "  },\n",
    "  {\n",
    "    \"text\": \"예금해줘\",\n",
    "    \"intent\": \"other\",\n",
    "    \"slots\": { \"action\": \"예금\" },\n",
    "    \"response\": \"예금을 진행할까요? 금액을 알려주세요.\"\n",
    "  },\n",
    "  {\n",
    "    \"text\": \"누구한테 보낼까요?\",\n",
    "    \"intent\": \"system_response\",\n",
    "    \"slots\": {},\n",
    "    \"response\": \"누구에게 송금할까요?\"\n",
    "  }\n",
    "]\n",
    "\n",
    "import json\n",
    "from pathlib import Path\n",
    "\n",
    "save_path = Path(\"samples_with_response.json\")\n",
    "with open(save_path, \"w\", encoding=\"utf-8\") as f:\n",
    "    json.dump(samples, f, indent=2, ensure_ascii=False)\n",
    "\n",
    "save_path\n"
   ]
  },
  {
   "cell_type": "code",
   "execution_count": null,
   "id": "b4c8f6fe-1ed3-4fda-b425-d032baa0f83b",
   "metadata": {},
   "outputs": [],
   "source": []
  }
 ],
 "metadata": {
  "kernelspec": {
   "display_name": "Python 3",
   "language": "python",
   "name": "python3"
  },
  "language_info": {
   "codemirror_mode": {
    "name": "ipython",
    "version": 3
   },
   "file_extension": ".py",
   "mimetype": "text/x-python",
   "name": "python",
   "nbconvert_exporter": "python",
   "pygments_lexer": "ipython3",
   "version": "3.11.9"
  }
 },
 "nbformat": 4,
 "nbformat_minor": 5
}
